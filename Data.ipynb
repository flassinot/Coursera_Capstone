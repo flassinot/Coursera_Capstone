{
 "cells": [
  {
   "cell_type": "markdown",
   "id": "fundamental-plate",
   "metadata": {},
   "source": [
    "# Capstone Project - The Battle of the Neighborhoods (Week 1)\n",
    "## Applied Data Science Capstone by IBM/Coursera\n"
   ]
  },
  {
   "cell_type": "markdown",
   "id": "finite-bench",
   "metadata": {},
   "source": [
    "## Data"
   ]
  },
  {
   "cell_type": "markdown",
   "id": "welcome-briefs",
   "metadata": {},
   "source": [
    "There are several factors that can influence a stakeholder's decision. The factors chosen here are the following:\n",
    "* the existing bakeries and their density in an area\n",
    "* the distance from the city center\n",
    "\n",
    "Each city will be divided into a grid of \"blocks\" (each equal in size) algorithmically, which we will use to retrieve our data and define our neighborhoods.\n",
    "\n",
    "For this study we will be using these data sources :\n",
    "* **Google Maps** for the coordinates of each cities\n",
    "* the **Folium library** for the city maps\n",
    "* the **Foursquare API** for all the venue locations along with their categories in a block\n",
    "\n",
    "Obtaining all the information about bakeries in one call to the Foursquare API is not possible due to limits placed on the number of results and the covered area. To circumvent this obstacle we will be calling the API block by block."
   ]
  }
 ],
 "metadata": {
  "kernelspec": {
   "display_name": "Python 3",
   "language": "python",
   "name": "python3"
  },
  "language_info": {
   "codemirror_mode": {
    "name": "ipython",
    "version": 3
   },
   "file_extension": ".py",
   "mimetype": "text/x-python",
   "name": "python",
   "nbconvert_exporter": "python",
   "pygments_lexer": "ipython3",
   "version": "3.9.1"
  }
 },
 "nbformat": 4,
 "nbformat_minor": 5
}
