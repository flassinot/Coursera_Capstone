{
 "cells": [
  {
   "cell_type": "markdown",
   "id": "bottom-memorial",
   "metadata": {},
   "source": [
    "# Capstone Project - The Battle of the Neighborhoods (Week 1)\n",
    "## Applied Data Science Capstone by IBM/Coursera"
   ]
  },
  {
   "cell_type": "markdown",
   "id": "collectible-waterproof",
   "metadata": {},
   "source": [
    "## Introduction: Business Problem "
   ]
  },
  {
   "cell_type": "markdown",
   "id": "liquid-trustee",
   "metadata": {},
   "source": [
    "Although the pandemic has made it difficult for many businesses to survive, the economy is still growing in the United States and many companies are looking for opportunities to expand their business.\n",
    "\n",
    "Our company wants to start a bakery restaurant chain in two cities in the USA.\n",
    "For particular reasons, there are two cities which have been selected for starting new businesses : Washington D.C. and Portland, Oregon.\n",
    "\n",
    "The two cities are comparable in size (not counting their metro area), but there are many differences. Washington D.C. is the capital of the United States and is a principal city of the East Cost, while Portland, although a large city, is not a capital and is located on the West Cost.\n",
    "\n",
    "This report will feature a brief comparison of the two cities, and will attempt to analyze data in order to present an ensemble of possible locations for our businesses. We will start by using data to retrieve existing food and bakery businesses, analyze our data, and finally determine which neighborhoods could be a good spot for a bakery.\n",
    "\n",
    "Stakeholders will be able to examine the data and base their decisions on the conclusions presented in this report."
   ]
  }
 ],
 "metadata": {
  "kernelspec": {
   "display_name": "Python 3",
   "language": "python",
   "name": "python3"
  },
  "language_info": {
   "codemirror_mode": {
    "name": "ipython",
    "version": 3
   },
   "file_extension": ".py",
   "mimetype": "text/x-python",
   "name": "python",
   "nbconvert_exporter": "python",
   "pygments_lexer": "ipython3",
   "version": "3.9.1"
  }
 },
 "nbformat": 4,
 "nbformat_minor": 5
}
